{
 "cells": [
  {
   "cell_type": "markdown",
   "id": "048df63f-53ad-42bf-becd-51b94028d752",
   "metadata": {},
   "source": [
    "# EXPENSE TRACKER"
   ]
  },
  {
   "cell_type": "code",
   "execution_count": null,
   "id": "535b1560-6366-4708-9e82-4fe53406ede1",
   "metadata": {},
   "outputs": [],
   "source": []
  },
  {
   "cell_type": "code",
   "execution_count": 2,
   "id": "0fcf2562-8919-4dc6-892d-46812210c43f",
   "metadata": {},
   "outputs": [],
   "source": [
    "\n",
    "from abc import ABC, abstractmethod\n",
    "from typing import List\n",
    "from datetime import datetime\n",
    "\n",
    "class Transaction(ABC):\n",
    "    def __init__(self, date: str, description: str, amount: float):\n",
    "        try:\n",
    "            datetime.strptime(date, '%Y-%m-%d')\n",
    "        except ValueError:\n",
    "            raise ValueError(\"Invalid date format. Use YYYY-MM-DD.\")\n",
    "        if amount < 0:\n",
    "            raise ValueError(\"Amount cannot be negative.\")\n",
    "        self.date = date\n",
    "        self.description = description\n",
    "        self.amount = amount\n",
    "\n",
    "    @abstractmethod\n",
    "    def __str__(self):\n",
    "        pass\n",
    "\n",
    "class Expense(Transaction):\n",
    "    def __str__(self):\n",
    "        return f\"{self.date} - Expense: {self.description} - ₹{self.amount:.2f}\"\n",
    "\n",
    "class Income(Transaction):\n",
    "    def __str__(self):\n",
    "        return f\"{self.date} - Income: {self.description} - ₹{self.amount:.2f}\"\n",
    "\n",
    "class Category(ABC):\n",
    "    def __init__(self, name: str):\n",
    "        if not name:\n",
    "            raise ValueError(\"Category name cannot be empty.\")\n",
    "        self.name = name\n",
    "        self.transactions: List[Transaction] = []\n",
    "\n",
    "    @abstractmethod\n",
    "    def add_transaction(self, transaction: Transaction):\n",
    "        pass\n",
    "\n",
    "    @abstractmethod\n",
    "    def total_expense(self) -> float:\n",
    "        pass\n",
    "\n",
    "    @abstractmethod\n",
    "    def total_income(self) -> float:\n",
    "        pass\n",
    "\n",
    "    @abstractmethod\n",
    "    def balance(self) -> float:\n",
    "        pass\n",
    "\n",
    "    @abstractmethod\n",
    "    def __str__(self):\n",
    "        pass\n",
    "\n",
    "class BasicCategory(Category):\n",
    "    def add_transaction(self, transaction: Transaction):\n",
    "        if not isinstance(transaction, Transaction):\n",
    "            raise TypeError(\"Expected an instance of Transaction\")\n",
    "        self.transactions.append(transaction)\n",
    "\n",
    "    def total_expense(self) -> float:\n",
    "        return sum(t.amount for t in self.transactions if isinstance(t, Expense))\n",
    "\n",
    "    def total_income(self) -> float:\n",
    "        return sum(t.amount for t in self.transactions if isinstance(t, Income))\n",
    "\n",
    "    def balance(self) -> float:\n",
    "        return self.total_income() - self.total_expense()\n",
    "\n",
    "    def __str__(self):\n",
    "        return f\"Category: {self.name}, Balance: ₹{self.balance():.2f}\"\n",
    "\n",
    "class ExpenseTracker:\n",
    "    def __init__(self):\n",
    "        self.categories = {}\n",
    "\n",
    "    def add_category(self, category_name: str):\n",
    "        if category_name not in self.categories:\n",
    "            self.categories[category_name] = BasicCategory(category_name)\n",
    "\n",
    "    def add_transaction(self, date: str, category_name: str, description: str, amount: float, is_income: bool):\n",
    "        if category_name not in self.categories:\n",
    "            self.add_category(category_name)\n",
    "        if is_income:\n",
    "            transaction = Income(date, description, amount)\n",
    "        else:\n",
    "            transaction = Expense(date, description, amount)\n",
    "        self.categories[category_name].add_transaction(transaction)\n",
    "\n",
    "    def get_total_expense(self) -> float:\n",
    "        return sum(category.total_expense() for category in self.categories.values())\n",
    "\n",
    "    def get_total_income(self) -> float:\n",
    "        return sum(category.total_income() for category in self.categories.values())\n",
    "\n",
    "    def get_balance(self) -> float:\n",
    "        return sum(category.balance() for category in self.categories.values())\n",
    "\n",
    "    def __str__(self):\n",
    "        result = \"Expense Tracker Summary:\\n\"\n",
    "        for category in self.categories.values():\n",
    "            result += str(category) + \"\\n\"\n",
    "            for transaction in category.transactions:\n",
    "                result += \" \" + str(transaction) + \"\\n\"\n",
    "        result += f\"Total Expense: ₹{self.get_total_expense():.2f}\\n\"\n",
    "        result += f\"Total Income: ₹{self.get_total_income():.2f}\\n\"\n",
    "        result += f\"Overall Balance: ₹{self.get_balance():.2f}\"\n",
    "        return result\n",
    "\n"
   ]
  },
  {
   "cell_type": "code",
   "execution_count": 5,
   "id": "ca66746f-51a3-45fd-9f91-b92514fce705",
   "metadata": {},
   "outputs": [],
   "source": [
    "tracker = ExpenseTracker()"
   ]
  },
  {
   "cell_type": "code",
   "execution_count": 6,
   "id": "718b1ed7-dca8-4483-8f6e-4a6e96139022",
   "metadata": {},
   "outputs": [],
   "source": [
    "# Add categories (optional if adding transactions will create them)\n",
    "\n",
    "tracker.add_category('Salary')\n"
   ]
  },
  {
   "cell_type": "code",
   "execution_count": 7,
   "id": "a6fb70f5-26ca-4c48-87b8-2312a4607fce",
   "metadata": {},
   "outputs": [
    {
     "name": "stdin",
     "output_type": "stream",
     "text": [
      "Enter the amount that you've earned this month,2024-09-10 :  10000\n"
     ]
    }
   ],
   "source": [
    "user_input = float(input(\"Enter the amount that you've earned this month,2024-09-10 : \"))\n",
    "tracker.add_transaction(date='2024-09-10', category_name='Salary', description='Income', amount=user_input, is_income=True)"
   ]
  },
  {
   "cell_type": "code",
   "execution_count": 8,
   "id": "dad94e88-ccff-40ee-a36e-b2d85c181729",
   "metadata": {},
   "outputs": [],
   "source": [
    "tracker.add_category('Food')"
   ]
  },
  {
   "cell_type": "code",
   "execution_count": 9,
   "id": "2fe603f7-18bb-4f37-b1b5-9b9a5141c267",
   "metadata": {},
   "outputs": [
    {
     "name": "stdin",
     "output_type": "stream",
     "text": [
      "Enter the amount that you've spent on overall groceries :  1000\n"
     ]
    },
    {
     "name": "stdout",
     "output_type": "stream",
     "text": [
      "Expense Tracker Summary:\n",
      "Category: Salary, Balance: ₹10000.00\n",
      " 2024-09-10 - Income: Income - ₹10000.00\n",
      "Category: Food, Balance: ₹-1000.00\n",
      " 2024-09-10 - Expense: Groceries - ₹1000.00\n",
      "Total Expense: ₹1000.00\n",
      "Total Income: ₹10000.00\n",
      "Overall Balance: ₹9000.00\n"
     ]
    }
   ],
   "source": [
    "user_input = float(input(\"Enter the amount that you've spent on overall groceries : \"))\n",
    "tracker.add_transaction(date='2024-09-10', category_name='Food', description='Groceries', amount=user_input, is_income=False)\n",
    "print(tracker)"
   ]
  },
  {
   "cell_type": "code",
   "execution_count": 10,
   "id": "10544b77-8908-46bb-bb3a-ea3627238205",
   "metadata": {},
   "outputs": [],
   "source": [
    "tracker.add_category('Savings')"
   ]
  },
  {
   "cell_type": "code",
   "execution_count": 11,
   "id": "597404b6-4093-45af-9af7-e92b11e545cb",
   "metadata": {},
   "outputs": [
    {
     "name": "stdin",
     "output_type": "stream",
     "text": [
      "Enter the amount that you've saved as savings :  1000\n"
     ]
    },
    {
     "name": "stdout",
     "output_type": "stream",
     "text": [
      "Expense Tracker Summary:\n",
      "Category: Salary, Balance: ₹10000.00\n",
      " 2024-09-10 - Income: Income - ₹10000.00\n",
      "Category: Food, Balance: ₹-1000.00\n",
      " 2024-09-10 - Expense: Groceries - ₹1000.00\n",
      "Category: Savings, Balance: ₹0.00\n",
      "Category: Money, Balance: ₹-1000.00\n",
      " 2024-09-10 - Expense: Saving - ₹1000.00\n",
      "Total Expense: ₹2000.00\n",
      "Total Income: ₹10000.00\n",
      "Overall Balance: ₹8000.00\n"
     ]
    }
   ],
   "source": [
    "user_input = float(input(\"Enter the amount that you've saved as savings : \"))\n",
    "tracker.add_transaction(date='2024-09-10', category_name='Money', description='Saving', amount=user_input, is_income=False)\n",
    "print(tracker)"
   ]
  },
  {
   "cell_type": "code",
   "execution_count": 12,
   "id": "6e0ffecd-43e8-49fd-9462-602129ddfb99",
   "metadata": {},
   "outputs": [],
   "source": [
    "tracker.add_category('Entertainment')\n"
   ]
  },
  {
   "cell_type": "code",
   "execution_count": 13,
   "id": "b6e589a9-1b69-4a31-a0db-34fb10608d46",
   "metadata": {},
   "outputs": [
    {
     "name": "stdin",
     "output_type": "stream",
     "text": [
      "Enter the amount that you've spent on entertainment :  1000\n"
     ]
    },
    {
     "name": "stdout",
     "output_type": "stream",
     "text": [
      "Expense Tracker Summary:\n",
      "Category: Salary, Balance: ₹10000.00\n",
      " 2024-09-10 - Income: Income - ₹10000.00\n",
      "Category: Food, Balance: ₹-1000.00\n",
      " 2024-09-10 - Expense: Groceries - ₹1000.00\n",
      "Category: Savings, Balance: ₹0.00\n",
      "Category: Money, Balance: ₹-1000.00\n",
      " 2024-09-10 - Expense: Saving - ₹1000.00\n",
      "Category: Entertainment, Balance: ₹-1000.00\n",
      " 2024-09-10 - Expense: Movie - ₹1000.00\n",
      "Total Expense: ₹3000.00\n",
      "Total Income: ₹10000.00\n",
      "Overall Balance: ₹7000.00\n"
     ]
    }
   ],
   "source": [
    "user_input = float(input(\"Enter the amount that you've spent on entertainment : \"))\n",
    "tracker.add_transaction(date='2024-09-10', category_name='Entertainment', description='Movie', amount=user_input, is_income=False)\n",
    "print(tracker)"
   ]
  },
  {
   "cell_type": "code",
   "execution_count": null,
   "id": "ca1d7b0b-e01f-400a-b2c3-a8d6157cf630",
   "metadata": {},
   "outputs": [],
   "source": []
  }
 ],
 "metadata": {
  "kernelspec": {
   "display_name": "Python 3 (ipykernel)",
   "language": "python",
   "name": "python3"
  },
  "language_info": {
   "codemirror_mode": {
    "name": "ipython",
    "version": 3
   },
   "file_extension": ".py",
   "mimetype": "text/x-python",
   "name": "python",
   "nbconvert_exporter": "python",
   "pygments_lexer": "ipython3",
   "version": "3.11.7"
  }
 },
 "nbformat": 4,
 "nbformat_minor": 5
}
